{
 "cells": [
  {
   "cell_type": "code",
   "execution_count": null,
   "id": "a4cad173-8770-4a88-81e9-fba5e401e7cf",
   "metadata": {},
   "outputs": [],
   "source": [
    "import pandas as pd"
   ]
  },
  {
   "cell_type": "code",
   "execution_count": null,
   "id": "d31b4840-8d7e-451c-a1a6-ad046b82830a",
   "metadata": {},
   "outputs": [],
   "source": [
    "ls"
   ]
  },
  {
   "cell_type": "code",
   "execution_count": null,
   "id": "1f6fce5d-2988-400c-8706-6df03d7cb930",
   "metadata": {},
   "outputs": [],
   "source": [
    "df = pd.read_csv(\"budget_data.csv\")"
   ]
  },
  {
   "cell_type": "code",
   "execution_count": 25,
   "id": "708b2033-d82f-40cc-b800-3867686edf28",
   "metadata": {},
   "outputs": [
    {
     "data": {
      "text/html": [
       "<div>\n",
       "<style scoped>\n",
       "    .dataframe tbody tr th:only-of-type {\n",
       "        vertical-align: middle;\n",
       "    }\n",
       "\n",
       "    .dataframe tbody tr th {\n",
       "        vertical-align: top;\n",
       "    }\n",
       "\n",
       "    .dataframe thead th {\n",
       "        text-align: right;\n",
       "    }\n",
       "</style>\n",
       "<table border=\"1\" class=\"dataframe\">\n",
       "  <thead>\n",
       "    <tr style=\"text-align: right;\">\n",
       "      <th></th>\n",
       "      <th>Date</th>\n",
       "      <th>Profit/Losses</th>\n",
       "    </tr>\n",
       "  </thead>\n",
       "  <tbody>\n",
       "    <tr>\n",
       "      <th>0</th>\n",
       "      <td>Jan-2010</td>\n",
       "      <td>867884</td>\n",
       "    </tr>\n",
       "    <tr>\n",
       "      <th>1</th>\n",
       "      <td>Feb-2010</td>\n",
       "      <td>984655</td>\n",
       "    </tr>\n",
       "    <tr>\n",
       "      <th>2</th>\n",
       "      <td>Mar-2010</td>\n",
       "      <td>322013</td>\n",
       "    </tr>\n",
       "    <tr>\n",
       "      <th>3</th>\n",
       "      <td>Apr-2010</td>\n",
       "      <td>-69417</td>\n",
       "    </tr>\n",
       "    <tr>\n",
       "      <th>4</th>\n",
       "      <td>May-2010</td>\n",
       "      <td>310503</td>\n",
       "    </tr>\n",
       "  </tbody>\n",
       "</table>\n",
       "</div>"
      ],
      "text/plain": [
       "       Date  Profit/Losses\n",
       "0  Jan-2010         867884\n",
       "1  Feb-2010         984655\n",
       "2  Mar-2010         322013\n",
       "3  Apr-2010         -69417\n",
       "4  May-2010         310503"
      ]
     },
     "execution_count": 25,
     "metadata": {},
     "output_type": "execute_result"
    }
   ],
   "source": [
    "df.head()"
   ]
  },
  {
   "cell_type": "code",
   "execution_count": 26,
   "id": "d71d8862-a619-4cf2-bffc-f8cb2a740620",
   "metadata": {},
   "outputs": [],
   "source": [
    "# Dependencies\n",
    "import csv"
   ]
  },
  {
   "cell_type": "code",
   "execution_count": 27,
   "id": "2c6c4f2c-a46f-4bd0-b068-6809d52aed75",
   "metadata": {},
   "outputs": [],
   "source": [
    "# Files to Load\n",
    "file_to_load = \"budget_data.csv\"\n",
    "file_to_output = \"budget_data.csv\""
   ]
  },
  {
   "cell_type": "code",
   "execution_count": 28,
   "id": "b6674d78-8898-4cfc-8c3d-12247e262e4b",
   "metadata": {},
   "outputs": [],
   "source": [
    "# Variables to Track\n",
    "total_months = 0\n",
    "total_revenue = 0"
   ]
  },
  {
   "cell_type": "code",
   "execution_count": 29,
   "id": "429dfb70-515d-4d26-8b09-27d4289ea421",
   "metadata": {},
   "outputs": [],
   "source": [
    "prev_revenue = 0\n",
    "revenue_change = 0\n",
    "greatest_increase = [\"\", 0]\n",
    "greatest_decrease = [\"\", 9999999999999999999999]"
   ]
  },
  {
   "cell_type": "code",
   "execution_count": 30,
   "id": "397632e6-bce9-4634-a128-175dd3ece638",
   "metadata": {},
   "outputs": [],
   "source": [
    "revenue_changes = []"
   ]
  },
  {
   "cell_type": "code",
   "execution_count": 37,
   "id": "e3ac53e8-9fcd-47c4-b735-9969d1956296",
   "metadata": {},
   "outputs": [
    {
     "name": "stdout",
     "output_type": "stream",
     "text": [
      "\n",
      "\n",
      "\n",
      "Financial Analysis\n",
      "-------------------------\n",
      "Total Months: 174\n",
      "Total Revenue: $77633040\n",
      "Average Change: $446309.05\n",
      "Greatest Increase: Feb-2012 ($1926159)\n",
      "Greatest Decrease: Sep-2013 ($-2196167)\n"
     ]
    }
   ],
   "source": [
    "# Read Files\n",
    "with open(file_to_load) as revenue_data:\n",
    "    reader = csv.DictReader(revenue_data)\n",
    "\n",
    "    # Loop through all the rows of data we collect\n",
    "    for row in reader:\n",
    "\n",
    "        # Calculate the totals\n",
    "        total_months = total_months + 1\n",
    "        total_revenue = total_revenue + int(row[\"Profit/Losses\"])\n",
    "        # print(row)\n",
    "\n",
    "        # Keep track of changes\n",
    "        revenue_change = int(row[\"Profit/Losses\"]) - prev_revenue\n",
    "        # print(revenue_change)\n",
    "\n",
    "        # Reset the value of prev_revenue to the row I completed my analysis\n",
    "        prev_revenue = int(row[\"Profit/Losses\"])\n",
    "        # print(prev_revenue)\n",
    "\n",
    "        # Determine the greatest increase\n",
    "        if (revenue_change > greatest_increase[1]):\n",
    "            greatest_increase[1] = revenue_change\n",
    "            greatest_increase[0] = row[\"Date\"]\n",
    "\n",
    "        if (revenue_change < greatest_decrease[1]):\n",
    "            greatest_decrease[1] = revenue_change\n",
    "            greatest_decrease[0] = row[\"Date\"]\n",
    "\n",
    "        # Add to the revenue_changes list\n",
    "        revenue_changes.append(int(row[\"Profit/Losses\"]))\n",
    "\n",
    "    # Set the Revenue average\n",
    "    revenue_avg = sum(revenue_changes) / len(revenue_changes)\n",
    "    \n",
    "    # Show Output\n",
    "    print()\n",
    "    print()\n",
    "    print()\n",
    "    print(\"Financial Analysis\")\n",
    "    print(\"-------------------------\")\n",
    "    print(\"Total Months: \" + str(total_months))\n",
    "    print(\"Total Revenue: \" + \"$\" + str(total_revenue))\n",
    "    print(\"Average Change: \" + \"$\" + str(round(sum(revenue_changes) / len(revenue_changes),2)))\n",
    "    print(\"Greatest Increase: \" + str(greatest_increase[0]) + \" ($\" +  str(greatest_increase[1]) + \")\") \n",
    "    print(\"Greatest Decrease: \" + str(greatest_decrease[0]) + \" ($\" +  str(greatest_decrease[1]) + \")\")"
   ]
  },
  {
   "cell_type": "code",
   "execution_count": 36,
   "id": "bb2156d2-c6d8-4312-8db1-f5c5091c6adc",
   "metadata": {},
   "outputs": [
    {
     "ename": "IndentationError",
     "evalue": "unexpected indent (3222364730.py, line 2)",
     "output_type": "error",
     "traceback": [
      "\u001b[0;36m  Input \u001b[0;32mIn [36]\u001b[0;36m\u001b[0m\n\u001b[0;31m    print()\u001b[0m\n\u001b[0m    ^\u001b[0m\n\u001b[0;31mIndentationError\u001b[0m\u001b[0;31m:\u001b[0m unexpected indent\n"
     ]
    }
   ],
   "source": []
  },
  {
   "cell_type": "code",
   "execution_count": null,
   "id": "9e92ef73-d5fc-415b-b0fe-89de5b38f565",
   "metadata": {},
   "outputs": [],
   "source": []
  }
 ],
 "metadata": {
  "kernelspec": {
   "display_name": "Python 3 (ipykernel)",
   "language": "python",
   "name": "python3"
  },
  "language_info": {
   "codemirror_mode": {
    "name": "ipython",
    "version": 3
   },
   "file_extension": ".py",
   "mimetype": "text/x-python",
   "name": "python",
   "nbconvert_exporter": "python",
   "pygments_lexer": "ipython3",
   "version": "3.9.7"
  }
 },
 "nbformat": 4,
 "nbformat_minor": 5
}
